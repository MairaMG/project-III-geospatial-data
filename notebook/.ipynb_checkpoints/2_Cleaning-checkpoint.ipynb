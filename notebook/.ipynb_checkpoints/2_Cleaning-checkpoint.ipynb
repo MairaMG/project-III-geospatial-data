{
 "cells": [
  {
   "cell_type": "code",
   "execution_count": 1,
   "id": "cec65012",
   "metadata": {},
   "outputs": [],
   "source": [
    "from pymongo import MongoClient\n",
    "import pandas as pd\n",
    "import requests\n",
    "import json\n",
    "from getpass import getpass\n",
    "import time"
   ]
  },
  {
   "cell_type": "code",
   "execution_count": 2,
   "id": "00b94715",
   "metadata": {
    "scrolled": true
   },
   "outputs": [],
   "source": [
    "raw_df = pd.read_csv('../data/video_games_companies.csv')"
   ]
  },
  {
   "cell_type": "raw",
   "id": "e74d2b6e",
   "metadata": {},
   "source": [
    "raw_df"
   ]
  },
  {
   "cell_type": "code",
   "execution_count": 3,
   "id": "5dfac91a",
   "metadata": {},
   "outputs": [
    {
     "data": {
      "text/plain": [
       "300"
      ]
     },
     "execution_count": 3,
     "metadata": {},
     "output_type": "execute_result"
    }
   ],
   "source": [
    "null_cities_count = raw_df['city'].isnull().sum()\n",
    "null_cities_count\n"
   ]
  },
  {
   "cell_type": "code",
   "execution_count": 4,
   "id": "6587400f",
   "metadata": {},
   "outputs": [
    {
     "ename": "NameError",
     "evalue": "name 'df' is not defined",
     "output_type": "error",
     "traceback": [
      "\u001b[0;31m---------------------------------------------------------------------------\u001b[0m",
      "\u001b[0;31mNameError\u001b[0m                                 Traceback (most recent call last)",
      "Cell \u001b[0;32mIn[4], line 2\u001b[0m\n\u001b[1;32m      1\u001b[0m \u001b[38;5;66;03m# Assuming 'companies_df' is your DataFrame with the data extracted from MongoDB\u001b[39;00m\n\u001b[0;32m----> 2\u001b[0m country_counts \u001b[38;5;241m=\u001b[39m df[\u001b[38;5;124m'\u001b[39m\u001b[38;5;124mcountry_code\u001b[39m\u001b[38;5;124m'\u001b[39m]\u001b[38;5;241m.\u001b[39mvalue_counts()\u001b[38;5;241m.\u001b[39mhead(\u001b[38;5;241m10\u001b[39m)\n\u001b[1;32m      4\u001b[0m \u001b[38;5;66;03m# Convert the Series to a DataFrame\u001b[39;00m\n\u001b[1;32m      5\u001b[0m top_countries_df \u001b[38;5;241m=\u001b[39m country_counts\u001b[38;5;241m.\u001b[39mreset_index()\n",
      "\u001b[0;31mNameError\u001b[0m: name 'df' is not defined"
     ]
    }
   ],
   "source": [
    "# Assuming 'companies_df' is your DataFrame with the data extracted from MongoDB\n",
    "country_counts = df['country_code'].value_counts().head(10)\n",
    "\n",
    "# Convert the Series to a DataFrame\n",
    "top_countries_df = country_counts.reset_index()\n",
    "top_countries_df.columns = ['Country', 'Number of Companies']\n",
    "\n",
    "# Now 'top_countries_df' is the DataFrame with the top 10 countries\n",
    "top_countries_df"
   ]
  },
  {
   "cell_type": "code",
   "execution_count": null,
   "id": "97e41c2b",
   "metadata": {},
   "outputs": [],
   "source": [
    "# Calculate the value counts for the 'city' column to get the number of companies per city, including nulls\n",
    "city_counts = df['city'].value_counts(dropna=False).reset_index()\n",
    "\n",
    "# Rename the columns for clarity\n",
    "city_counts.columns = ['City', 'Number of Companies']\n",
    "\n",
    "# Get the top cities including nulls (if any)\n",
    "top_cities_df = city_counts.head(10)\n",
    "\n",
    "# Display the DataFrame\n",
    "top_cities_df\n"
   ]
  },
  {
   "cell_type": "code",
   "execution_count": null,
   "id": "a0c2d909",
   "metadata": {},
   "outputs": [],
   "source": [
    "# Filter the DataFrame for companies in the USA\n",
    "usa_companies_df = df[df['country_code'] == 'USA']\n",
    "\n",
    "# Calculate the value counts for the 'city' column to get the number of companies per city, including nulls\n",
    "city_counts = usa_companies_df['city'].value_counts(dropna=False).reset_index()\n",
    "\n",
    "# Rename the columns for clarity\n",
    "city_counts.columns = ['City', 'Number of Companies']\n",
    "\n",
    "# Get the top cities including nulls (if any)\n",
    "top_cities_df = city_counts.head(10)\n",
    "\n",
    "# Display the DataFrame\n",
    "top_cities_df\n"
   ]
  },
  {
   "cell_type": "code",
   "execution_count": null,
   "id": "9b42233e",
   "metadata": {},
   "outputs": [],
   "source": [
    "# Filter the DataFrame for companies in the USA, including NaN values in the city column\n",
    "usa_companies_df = df[df['country_code'] == 'USA']\n",
    "\n",
    "# Get the top 10 cities with NaN values included\n",
    "city_counts = usa_companies_df['city'].value_counts(dropna=False).reset_index()\n",
    "city_counts.columns = ['City', 'Number of Companies']\n",
    "\n",
    "# Get the top 10 cities including NaN values\n",
    "top_cities_df = city_counts.head(10)\n",
    "\n",
    "# Display the DataFrame including all columns for the top cities (including NaN values)\n",
    "top_usa_cities_df = usa_companies_df[\n",
    "    usa_companies_df['city'].isin(top_cities_df['City']) | usa_companies_df['city'].isna()\n",
    "]\n",
    "\n",
    "# Display the result\n",
    "top_usa_cities_df"
   ]
  },
  {
   "cell_type": "markdown",
   "id": "1ae370bc",
   "metadata": {},
   "source": [
    "### Should I look for the null cities even without knowing number of employees? I will do it in case Im not happy with the options I get that have the right values in the number_of_employees column."
   ]
  },
  {
   "cell_type": "code",
   "execution_count": null,
   "id": "b8dd4b5e",
   "metadata": {
    "scrolled": false
   },
   "outputs": [],
   "source": [
    "# Filter for only the rows with NaN values in the city column from top_usa_cities_df\n",
    "null_cities_df = top_usa_cities_df[top_usa_cities_df['city'].isnull()].copy()\n",
    "\n",
    "# Display the DataFrame with null city values\n",
    "null_cities_df\n"
   ]
  },
  {
   "cell_type": "markdown",
   "id": "277768a8",
   "metadata": {},
   "source": [
    "I can see that the only rows with number_of_employees value are much less than 90 so Im not using any of the rows without city value for now."
   ]
  },
  {
   "cell_type": "code",
   "execution_count": null,
   "id": "2be051f6",
   "metadata": {},
   "outputs": [],
   "source": [
    "top_usa_cities_df.to_csv('../data/required_companies.csv', index=False)"
   ]
  }
 ],
 "metadata": {
  "kernelspec": {
   "display_name": "ironhack",
   "language": "python",
   "name": "ironhack"
  },
  "language_info": {
   "codemirror_mode": {
    "name": "ipython",
    "version": 3
   },
   "file_extension": ".py",
   "mimetype": "text/x-python",
   "name": "python",
   "nbconvert_exporter": "python",
   "pygments_lexer": "ipython3",
   "version": "3.11.5"
  }
 },
 "nbformat": 4,
 "nbformat_minor": 5
}
